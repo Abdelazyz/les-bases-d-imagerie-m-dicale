{
 "cells": [
  {
   "cell_type": "code",
   "execution_count": 14,
   "id": "4884e3cc",
   "metadata": {},
   "outputs": [],
   "source": [
    "import nibabel as nib\n",
    "import numpy as np"
   ]
  },
  {
   "cell_type": "code",
   "execution_count": 15,
   "id": "370e5c1b",
   "metadata": {},
   "outputs": [],
   "source": [
    "medical_image = nib.load('avg152T1_LR_nifti.hdr')"
   ]
  },
  {
   "cell_type": "code",
   "execution_count": 16,
   "id": "bd3eba4e",
   "metadata": {},
   "outputs": [
    {
     "name": "stdout",
     "output_type": "stream",
     "text": [
      "<class 'nibabel.nifti1.Nifti1PairHeader'> object, endian='>'\n",
      "sizeof_hdr      : 348\n",
      "data_type       : b''\n",
      "db_name         : b''\n",
      "extents         : 0\n",
      "session_error   : 0\n",
      "regular         : b'r'\n",
      "dim_info        : 0\n",
      "dim             : [  3  91 109  91   1   1   1   1]\n",
      "intent_p1       : 0.0\n",
      "intent_p2       : 0.0\n",
      "intent_p3       : 0.0\n",
      "intent_code     : none\n",
      "datatype        : uint8\n",
      "bitpix          : 8\n",
      "slice_start     : 0\n",
      "pixdim          : [1. 2. 2. 2. 1. 1. 1. 1.]\n",
      "vox_offset      : 0.0\n",
      "scl_slope       : nan\n",
      "scl_inter       : nan\n",
      "slice_end       : 0\n",
      "slice_code      : unknown\n",
      "xyzt_units      : 10\n",
      "cal_max         : 255.0\n",
      "cal_min         : 0.0\n",
      "slice_duration  : 0.0\n",
      "toffset         : 0.0\n",
      "glmax           : 0\n",
      "glmin           : 0\n",
      "descrip         : b'FSL3.2beta'\n",
      "aux_file        : b'none                   '\n",
      "qform_code      : unknown\n",
      "sform_code      : mni\n",
      "quatern_b       : 0.0\n",
      "quatern_c       : 0.0\n",
      "quatern_d       : 0.0\n",
      "qoffset_x       : 0.0\n",
      "qoffset_y       : 0.0\n",
      "qoffset_z       : 0.0\n",
      "srow_x          : [-2.  0.  0. 90.]\n",
      "srow_y          : [   0.    2.    0. -126.]\n",
      "srow_z          : [  0.   0.   2. -72.]\n",
      "intent_name     : b''\n",
      "magic           : b'ni1'\n"
     ]
    }
   ],
   "source": [
    "print(medical_image.header)"
   ]
  },
  {
   "cell_type": "code",
   "execution_count": 19,
   "id": "650ef362",
   "metadata": {},
   "outputs": [],
   "source": [
    "def find_pix_dim(ct_img):\n",
    "    \"\"\"\n",
    "    Get the pixdim of the CT image.\n",
    "    A general solution that gets the pixdim indicated from the image dimensions. From the last 2 image dimensions,\n",
    "    we get their pixel dimension.\n",
    "    Args:\n",
    "        ct_img: nib image\n",
    "\n",
    "    Returns: List of the 2 pixel dimensions\n",
    "    \"\"\"\n",
    "    pix_dim = ct_img.header[\"pixdim\"] # example [1,2,1.5,1,1]\n",
    "    dim = ct_img.header[\"dim\"] # example [1,512,512,1,1]\n",
    "    max_indx = np.argmax(dim)\n",
    "    pixdimX = pix_dim[max_indx]\n",
    "    \n",
    "    dim = np.delete(dim, max_indx)\n",
    "    pix_dim = np.delete(pix_dim, max_indx)\n",
    "    \n",
    "    max_indy = np.argmax(dim)\n",
    "    pixdimY = pix_dim[max_indy]\n",
    "    return [pixdimX, pixdimY] # example [2, 1.5]"
   ]
  },
  {
   "cell_type": "code",
   "execution_count": 20,
   "id": "fa44eecc",
   "metadata": {},
   "outputs": [
    {
     "data": {
      "text/plain": [
       "[2.0, 2.0]"
      ]
     },
     "execution_count": 20,
     "metadata": {},
     "output_type": "execute_result"
    }
   ],
   "source": [
    "find_pix_dim(medical_image)"
   ]
  },
  {
   "cell_type": "code",
   "execution_count": null,
   "id": "b3d4784b",
   "metadata": {},
   "outputs": [],
   "source": []
  }
 ],
 "metadata": {
  "kernelspec": {
   "display_name": "Python 3 (ipykernel)",
   "language": "python",
   "name": "python3"
  },
  "language_info": {
   "codemirror_mode": {
    "name": "ipython",
    "version": 3
   },
   "file_extension": ".py",
   "mimetype": "text/x-python",
   "name": "python",
   "nbconvert_exporter": "python",
   "pygments_lexer": "ipython3",
   "version": "3.9.7"
  }
 },
 "nbformat": 4,
 "nbformat_minor": 5
}
